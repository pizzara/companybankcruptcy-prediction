{
 "cells": [
  {
   "cell_type": "code",
   "execution_count": 1,
   "metadata": {
    "_cell_guid": "b1076dfc-b9ad-4769-8c92-a6c4dae69d19",
    "_uuid": "8f2839f25d086af736a60e9eeb907d3b93b6e0e5",
    "execution": {
     "iopub.execute_input": "2021-06-25T05:12:44.591214Z",
     "iopub.status.busy": "2021-06-25T05:12:44.590640Z",
     "iopub.status.idle": "2021-06-25T05:12:44.603927Z",
     "shell.execute_reply": "2021-06-25T05:12:44.604505Z"
    },
    "papermill": {
     "duration": 0.039975,
     "end_time": "2021-06-25T05:12:44.604824",
     "exception": false,
     "start_time": "2021-06-25T05:12:44.564849",
     "status": "completed"
    },
    "tags": []
   },
   "outputs": [
    {
     "name": "stdout",
     "output_type": "stream",
     "text": [
      "/kaggle/input/company-bankruptcy-prediction/data.csv\n"
     ]
    }
   ],
   "source": [
    "# This Python 3 environment comes with many helpful analytics libraries installed\n",
    "# It is defined by the kaggle/python Docker image: https://github.com/kaggle/docker-python\n",
    "# For example, here's several helpful packages to load\n",
    "\n",
    "import numpy as np # linear algebra\n",
    "import pandas as pd # data processing, CSV file I/O (e.g. pd.read_csv)\n",
    "\n",
    "# Input data files are available in the read-only \"../input/\" directory\n",
    "# For example, running this (by clicking run or pressing Shift+Enter) will list all files under the input directory\n",
    "\n",
    "import os\n",
    "for dirname, _, filenames in os.walk('/kaggle/input'):\n",
    "    for filename in filenames:\n",
    "        print(os.path.join(dirname, filename))\n",
    "\n",
    "# You can write up to 20GB to the current directory (/kaggle/working/) that gets preserved as output when you create a version using \"Save & Run All\" \n",
    "# You can also write temporary files to /kaggle/temp/, but they won't be saved outside of the current session"
   ]
  },
  {
   "cell_type": "markdown",
   "metadata": {
    "papermill": {
     "duration": 0.019154,
     "end_time": "2021-06-25T05:12:44.645003",
     "exception": false,
     "start_time": "2021-06-25T05:12:44.625849",
     "status": "completed"
    },
    "tags": []
   },
   "source": [
    "# Read and Explore Data"
   ]
  },
  {
   "cell_type": "code",
   "execution_count": 2,
   "metadata": {
    "execution": {
     "iopub.execute_input": "2021-06-25T05:12:44.687802Z",
     "iopub.status.busy": "2021-06-25T05:12:44.687218Z",
     "iopub.status.idle": "2021-06-25T05:12:45.223999Z",
     "shell.execute_reply": "2021-06-25T05:12:45.222963Z"
    },
    "papermill": {
     "duration": 0.559437,
     "end_time": "2021-06-25T05:12:45.224148",
     "exception": false,
     "start_time": "2021-06-25T05:12:44.664711",
     "status": "completed"
    },
    "tags": []
   },
   "outputs": [],
   "source": [
    "df = pd.read_csv('../input/company-bankruptcy-prediction/data.csv')"
   ]
  },
  {
   "cell_type": "code",
   "execution_count": 3,
   "metadata": {
    "execution": {
     "iopub.execute_input": "2021-06-25T05:12:45.267456Z",
     "iopub.status.busy": "2021-06-25T05:12:45.266926Z",
     "iopub.status.idle": "2021-06-25T05:12:45.304603Z",
     "shell.execute_reply": "2021-06-25T05:12:45.304993Z"
    },
    "papermill": {
     "duration": 0.059987,
     "end_time": "2021-06-25T05:12:45.305167",
     "exception": false,
     "start_time": "2021-06-25T05:12:45.245180",
     "status": "completed"
    },
    "tags": []
   },
   "outputs": [
    {
     "data": {
      "text/html": [
       "<div>\n",
       "<style scoped>\n",
       "    .dataframe tbody tr th:only-of-type {\n",
       "        vertical-align: middle;\n",
       "    }\n",
       "\n",
       "    .dataframe tbody tr th {\n",
       "        vertical-align: top;\n",
       "    }\n",
       "\n",
       "    .dataframe thead th {\n",
       "        text-align: right;\n",
       "    }\n",
       "</style>\n",
       "<table border=\"1\" class=\"dataframe\">\n",
       "  <thead>\n",
       "    <tr style=\"text-align: right;\">\n",
       "      <th></th>\n",
       "      <th>Bankrupt?</th>\n",
       "      <th>ROA(C) before interest and depreciation before interest</th>\n",
       "      <th>ROA(A) before interest and % after tax</th>\n",
       "      <th>ROA(B) before interest and depreciation after tax</th>\n",
       "      <th>Operating Gross Margin</th>\n",
       "      <th>Realized Sales Gross Margin</th>\n",
       "      <th>Operating Profit Rate</th>\n",
       "      <th>Pre-tax net Interest Rate</th>\n",
       "      <th>After-tax net Interest Rate</th>\n",
       "      <th>Non-industry income and expenditure/revenue</th>\n",
       "      <th>...</th>\n",
       "      <th>Net Income to Total Assets</th>\n",
       "      <th>Total assets to GNP price</th>\n",
       "      <th>No-credit Interval</th>\n",
       "      <th>Gross Profit to Sales</th>\n",
       "      <th>Net Income to Stockholder's Equity</th>\n",
       "      <th>Liability to Equity</th>\n",
       "      <th>Degree of Financial Leverage (DFL)</th>\n",
       "      <th>Interest Coverage Ratio (Interest expense to EBIT)</th>\n",
       "      <th>Net Income Flag</th>\n",
       "      <th>Equity to Liability</th>\n",
       "    </tr>\n",
       "  </thead>\n",
       "  <tbody>\n",
       "    <tr>\n",
       "      <th>0</th>\n",
       "      <td>1</td>\n",
       "      <td>0.370594</td>\n",
       "      <td>0.424389</td>\n",
       "      <td>0.405750</td>\n",
       "      <td>0.601457</td>\n",
       "      <td>0.601457</td>\n",
       "      <td>0.998969</td>\n",
       "      <td>0.796887</td>\n",
       "      <td>0.808809</td>\n",
       "      <td>0.302646</td>\n",
       "      <td>...</td>\n",
       "      <td>0.716845</td>\n",
       "      <td>0.009219</td>\n",
       "      <td>0.622879</td>\n",
       "      <td>0.601453</td>\n",
       "      <td>0.827890</td>\n",
       "      <td>0.290202</td>\n",
       "      <td>0.026601</td>\n",
       "      <td>0.564050</td>\n",
       "      <td>1</td>\n",
       "      <td>0.016469</td>\n",
       "    </tr>\n",
       "    <tr>\n",
       "      <th>1</th>\n",
       "      <td>1</td>\n",
       "      <td>0.464291</td>\n",
       "      <td>0.538214</td>\n",
       "      <td>0.516730</td>\n",
       "      <td>0.610235</td>\n",
       "      <td>0.610235</td>\n",
       "      <td>0.998946</td>\n",
       "      <td>0.797380</td>\n",
       "      <td>0.809301</td>\n",
       "      <td>0.303556</td>\n",
       "      <td>...</td>\n",
       "      <td>0.795297</td>\n",
       "      <td>0.008323</td>\n",
       "      <td>0.623652</td>\n",
       "      <td>0.610237</td>\n",
       "      <td>0.839969</td>\n",
       "      <td>0.283846</td>\n",
       "      <td>0.264577</td>\n",
       "      <td>0.570175</td>\n",
       "      <td>1</td>\n",
       "      <td>0.020794</td>\n",
       "    </tr>\n",
       "    <tr>\n",
       "      <th>2</th>\n",
       "      <td>1</td>\n",
       "      <td>0.426071</td>\n",
       "      <td>0.499019</td>\n",
       "      <td>0.472295</td>\n",
       "      <td>0.601450</td>\n",
       "      <td>0.601364</td>\n",
       "      <td>0.998857</td>\n",
       "      <td>0.796403</td>\n",
       "      <td>0.808388</td>\n",
       "      <td>0.302035</td>\n",
       "      <td>...</td>\n",
       "      <td>0.774670</td>\n",
       "      <td>0.040003</td>\n",
       "      <td>0.623841</td>\n",
       "      <td>0.601449</td>\n",
       "      <td>0.836774</td>\n",
       "      <td>0.290189</td>\n",
       "      <td>0.026555</td>\n",
       "      <td>0.563706</td>\n",
       "      <td>1</td>\n",
       "      <td>0.016474</td>\n",
       "    </tr>\n",
       "    <tr>\n",
       "      <th>3</th>\n",
       "      <td>1</td>\n",
       "      <td>0.399844</td>\n",
       "      <td>0.451265</td>\n",
       "      <td>0.457733</td>\n",
       "      <td>0.583541</td>\n",
       "      <td>0.583541</td>\n",
       "      <td>0.998700</td>\n",
       "      <td>0.796967</td>\n",
       "      <td>0.808966</td>\n",
       "      <td>0.303350</td>\n",
       "      <td>...</td>\n",
       "      <td>0.739555</td>\n",
       "      <td>0.003252</td>\n",
       "      <td>0.622929</td>\n",
       "      <td>0.583538</td>\n",
       "      <td>0.834697</td>\n",
       "      <td>0.281721</td>\n",
       "      <td>0.026697</td>\n",
       "      <td>0.564663</td>\n",
       "      <td>1</td>\n",
       "      <td>0.023982</td>\n",
       "    </tr>\n",
       "    <tr>\n",
       "      <th>4</th>\n",
       "      <td>1</td>\n",
       "      <td>0.465022</td>\n",
       "      <td>0.538432</td>\n",
       "      <td>0.522298</td>\n",
       "      <td>0.598783</td>\n",
       "      <td>0.598783</td>\n",
       "      <td>0.998973</td>\n",
       "      <td>0.797366</td>\n",
       "      <td>0.809304</td>\n",
       "      <td>0.303475</td>\n",
       "      <td>...</td>\n",
       "      <td>0.795016</td>\n",
       "      <td>0.003878</td>\n",
       "      <td>0.623521</td>\n",
       "      <td>0.598782</td>\n",
       "      <td>0.839973</td>\n",
       "      <td>0.278514</td>\n",
       "      <td>0.024752</td>\n",
       "      <td>0.575617</td>\n",
       "      <td>1</td>\n",
       "      <td>0.035490</td>\n",
       "    </tr>\n",
       "  </tbody>\n",
       "</table>\n",
       "<p>5 rows × 96 columns</p>\n",
       "</div>"
      ],
      "text/plain": [
       "   Bankrupt?   ROA(C) before interest and depreciation before interest  \\\n",
       "0          1                                           0.370594          \n",
       "1          1                                           0.464291          \n",
       "2          1                                           0.426071          \n",
       "3          1                                           0.399844          \n",
       "4          1                                           0.465022          \n",
       "\n",
       "    ROA(A) before interest and % after tax  \\\n",
       "0                                 0.424389   \n",
       "1                                 0.538214   \n",
       "2                                 0.499019   \n",
       "3                                 0.451265   \n",
       "4                                 0.538432   \n",
       "\n",
       "    ROA(B) before interest and depreciation after tax  \\\n",
       "0                                           0.405750    \n",
       "1                                           0.516730    \n",
       "2                                           0.472295    \n",
       "3                                           0.457733    \n",
       "4                                           0.522298    \n",
       "\n",
       "    Operating Gross Margin   Realized Sales Gross Margin  \\\n",
       "0                 0.601457                      0.601457   \n",
       "1                 0.610235                      0.610235   \n",
       "2                 0.601450                      0.601364   \n",
       "3                 0.583541                      0.583541   \n",
       "4                 0.598783                      0.598783   \n",
       "\n",
       "    Operating Profit Rate   Pre-tax net Interest Rate  \\\n",
       "0                0.998969                    0.796887   \n",
       "1                0.998946                    0.797380   \n",
       "2                0.998857                    0.796403   \n",
       "3                0.998700                    0.796967   \n",
       "4                0.998973                    0.797366   \n",
       "\n",
       "    After-tax net Interest Rate   Non-industry income and expenditure/revenue  \\\n",
       "0                      0.808809                                      0.302646   \n",
       "1                      0.809301                                      0.303556   \n",
       "2                      0.808388                                      0.302035   \n",
       "3                      0.808966                                      0.303350   \n",
       "4                      0.809304                                      0.303475   \n",
       "\n",
       "   ...   Net Income to Total Assets   Total assets to GNP price  \\\n",
       "0  ...                     0.716845                    0.009219   \n",
       "1  ...                     0.795297                    0.008323   \n",
       "2  ...                     0.774670                    0.040003   \n",
       "3  ...                     0.739555                    0.003252   \n",
       "4  ...                     0.795016                    0.003878   \n",
       "\n",
       "    No-credit Interval   Gross Profit to Sales  \\\n",
       "0             0.622879                0.601453   \n",
       "1             0.623652                0.610237   \n",
       "2             0.623841                0.601449   \n",
       "3             0.622929                0.583538   \n",
       "4             0.623521                0.598782   \n",
       "\n",
       "    Net Income to Stockholder's Equity   Liability to Equity  \\\n",
       "0                             0.827890              0.290202   \n",
       "1                             0.839969              0.283846   \n",
       "2                             0.836774              0.290189   \n",
       "3                             0.834697              0.281721   \n",
       "4                             0.839973              0.278514   \n",
       "\n",
       "    Degree of Financial Leverage (DFL)  \\\n",
       "0                             0.026601   \n",
       "1                             0.264577   \n",
       "2                             0.026555   \n",
       "3                             0.026697   \n",
       "4                             0.024752   \n",
       "\n",
       "    Interest Coverage Ratio (Interest expense to EBIT)   Net Income Flag  \\\n",
       "0                                           0.564050                   1   \n",
       "1                                           0.570175                   1   \n",
       "2                                           0.563706                   1   \n",
       "3                                           0.564663                   1   \n",
       "4                                           0.575617                   1   \n",
       "\n",
       "    Equity to Liability  \n",
       "0              0.016469  \n",
       "1              0.020794  \n",
       "2              0.016474  \n",
       "3              0.023982  \n",
       "4              0.035490  \n",
       "\n",
       "[5 rows x 96 columns]"
      ]
     },
     "execution_count": 3,
     "metadata": {},
     "output_type": "execute_result"
    }
   ],
   "source": [
    "df.head()"
   ]
  },
  {
   "cell_type": "code",
   "execution_count": 4,
   "metadata": {
    "execution": {
     "iopub.execute_input": "2021-06-25T05:12:45.349901Z",
     "iopub.status.busy": "2021-06-25T05:12:45.349337Z",
     "iopub.status.idle": "2021-06-25T05:12:45.353346Z",
     "shell.execute_reply": "2021-06-25T05:12:45.353786Z"
    },
    "papermill": {
     "duration": 0.028371,
     "end_time": "2021-06-25T05:12:45.353938",
     "exception": false,
     "start_time": "2021-06-25T05:12:45.325567",
     "status": "completed"
    },
    "tags": []
   },
   "outputs": [
    {
     "data": {
      "text/plain": [
       "(6819, 96)"
      ]
     },
     "execution_count": 4,
     "metadata": {},
     "output_type": "execute_result"
    }
   ],
   "source": [
    "df.shape"
   ]
  },
  {
   "cell_type": "markdown",
   "metadata": {
    "papermill": {
     "duration": 0.020766,
     "end_time": "2021-06-25T05:12:45.395540",
     "exception": false,
     "start_time": "2021-06-25T05:12:45.374774",
     "status": "completed"
    },
    "tags": []
   },
   "source": [
    "There are 96 features including Target variable. we obviously need to decompose the features for better prediction"
   ]
  },
  {
   "cell_type": "markdown",
   "metadata": {
    "papermill": {
     "duration": 0.020632,
     "end_time": "2021-06-25T05:12:45.437209",
     "exception": false,
     "start_time": "2021-06-25T05:12:45.416577",
     "status": "completed"
    },
    "tags": []
   },
   "source": [
    "lets check the null, na or any duplicate values in the dataset"
   ]
  },
  {
   "cell_type": "code",
   "execution_count": 5,
   "metadata": {
    "execution": {
     "iopub.execute_input": "2021-06-25T05:12:45.481993Z",
     "iopub.status.busy": "2021-06-25T05:12:45.481448Z",
     "iopub.status.idle": "2021-06-25T05:12:45.489924Z",
     "shell.execute_reply": "2021-06-25T05:12:45.490337Z"
    },
    "papermill": {
     "duration": 0.032349,
     "end_time": "2021-06-25T05:12:45.490514",
     "exception": false,
     "start_time": "2021-06-25T05:12:45.458165",
     "status": "completed"
    },
    "tags": []
   },
   "outputs": [
    {
     "data": {
      "text/plain": [
       "Bankrupt?                                                   0\n",
       " ROA(C) before interest and depreciation before interest    0\n",
       " ROA(A) before interest and % after tax                     0\n",
       " ROA(B) before interest and depreciation after tax          0\n",
       " Operating Gross Margin                                     0\n",
       "                                                           ..\n",
       " Liability to Equity                                        0\n",
       " Degree of Financial Leverage (DFL)                         0\n",
       " Interest Coverage Ratio (Interest expense to EBIT)         0\n",
       " Net Income Flag                                            0\n",
       " Equity to Liability                                        0\n",
       "Length: 96, dtype: int64"
      ]
     },
     "execution_count": 5,
     "metadata": {},
     "output_type": "execute_result"
    }
   ],
   "source": [
    "df.isnull().sum()"
   ]
  },
  {
   "cell_type": "code",
   "execution_count": 6,
   "metadata": {
    "execution": {
     "iopub.execute_input": "2021-06-25T05:12:45.535261Z",
     "iopub.status.busy": "2021-06-25T05:12:45.534593Z",
     "iopub.status.idle": "2021-06-25T05:12:45.602539Z",
     "shell.execute_reply": "2021-06-25T05:12:45.601955Z"
    },
    "papermill": {
     "duration": 0.091207,
     "end_time": "2021-06-25T05:12:45.602681",
     "exception": false,
     "start_time": "2021-06-25T05:12:45.511474",
     "status": "completed"
    },
    "tags": []
   },
   "outputs": [
    {
     "data": {
      "text/plain": [
       "0"
      ]
     },
     "execution_count": 6,
     "metadata": {},
     "output_type": "execute_result"
    }
   ],
   "source": [
    "df.duplicated().sum()"
   ]
  },
  {
   "cell_type": "markdown",
   "metadata": {
    "papermill": {
     "duration": 0.021153,
     "end_time": "2021-06-25T05:12:45.645278",
     "exception": false,
     "start_time": "2021-06-25T05:12:45.624125",
     "status": "completed"
    },
    "tags": []
   },
   "source": [
    "There is no duplicate or null values in the data frame. \n",
    "lets us check the datatype of the features"
   ]
  },
  {
   "cell_type": "code",
   "execution_count": 7,
   "metadata": {
    "execution": {
     "iopub.execute_input": "2021-06-25T05:12:45.693083Z",
     "iopub.status.busy": "2021-06-25T05:12:45.692522Z",
     "iopub.status.idle": "2021-06-25T05:12:45.711585Z",
     "shell.execute_reply": "2021-06-25T05:12:45.710864Z"
    },
    "papermill": {
     "duration": 0.045009,
     "end_time": "2021-06-25T05:12:45.711765",
     "exception": false,
     "start_time": "2021-06-25T05:12:45.666756",
     "status": "completed"
    },
    "tags": []
   },
   "outputs": [
    {
     "name": "stdout",
     "output_type": "stream",
     "text": [
      "<class 'pandas.core.frame.DataFrame'>\n",
      "RangeIndex: 6819 entries, 0 to 6818\n",
      "Data columns (total 96 columns):\n",
      " #   Column                                                    Non-Null Count  Dtype  \n",
      "---  ------                                                    --------------  -----  \n",
      " 0   Bankrupt?                                                 6819 non-null   int64  \n",
      " 1    ROA(C) before interest and depreciation before interest  6819 non-null   float64\n",
      " 2    ROA(A) before interest and % after tax                   6819 non-null   float64\n",
      " 3    ROA(B) before interest and depreciation after tax        6819 non-null   float64\n",
      " 4    Operating Gross Margin                                   6819 non-null   float64\n",
      " 5    Realized Sales Gross Margin                              6819 non-null   float64\n",
      " 6    Operating Profit Rate                                    6819 non-null   float64\n",
      " 7    Pre-tax net Interest Rate                                6819 non-null   float64\n",
      " 8    After-tax net Interest Rate                              6819 non-null   float64\n",
      " 9    Non-industry income and expenditure/revenue              6819 non-null   float64\n",
      " 10   Continuous interest rate (after tax)                     6819 non-null   float64\n",
      " 11   Operating Expense Rate                                   6819 non-null   float64\n",
      " 12   Research and development expense rate                    6819 non-null   float64\n",
      " 13   Cash flow rate                                           6819 non-null   float64\n",
      " 14   Interest-bearing debt interest rate                      6819 non-null   float64\n",
      " 15   Tax rate (A)                                             6819 non-null   float64\n",
      " 16   Net Value Per Share (B)                                  6819 non-null   float64\n",
      " 17   Net Value Per Share (A)                                  6819 non-null   float64\n",
      " 18   Net Value Per Share (C)                                  6819 non-null   float64\n",
      " 19   Persistent EPS in the Last Four Seasons                  6819 non-null   float64\n",
      " 20   Cash Flow Per Share                                      6819 non-null   float64\n",
      " 21   Revenue Per Share (Yuan ¥)                               6819 non-null   float64\n",
      " 22   Operating Profit Per Share (Yuan ¥)                      6819 non-null   float64\n",
      " 23   Per Share Net profit before tax (Yuan ¥)                 6819 non-null   float64\n",
      " 24   Realized Sales Gross Profit Growth Rate                  6819 non-null   float64\n",
      " 25   Operating Profit Growth Rate                             6819 non-null   float64\n",
      " 26   After-tax Net Profit Growth Rate                         6819 non-null   float64\n",
      " 27   Regular Net Profit Growth Rate                           6819 non-null   float64\n",
      " 28   Continuous Net Profit Growth Rate                        6819 non-null   float64\n",
      " 29   Total Asset Growth Rate                                  6819 non-null   float64\n",
      " 30   Net Value Growth Rate                                    6819 non-null   float64\n",
      " 31   Total Asset Return Growth Rate Ratio                     6819 non-null   float64\n",
      " 32   Cash Reinvestment %                                      6819 non-null   float64\n",
      " 33   Current Ratio                                            6819 non-null   float64\n",
      " 34   Quick Ratio                                              6819 non-null   float64\n",
      " 35   Interest Expense Ratio                                   6819 non-null   float64\n",
      " 36   Total debt/Total net worth                               6819 non-null   float64\n",
      " 37   Debt ratio %                                             6819 non-null   float64\n",
      " 38   Net worth/Assets                                         6819 non-null   float64\n",
      " 39   Long-term fund suitability ratio (A)                     6819 non-null   float64\n",
      " 40   Borrowing dependency                                     6819 non-null   float64\n",
      " 41   Contingent liabilities/Net worth                         6819 non-null   float64\n",
      " 42   Operating profit/Paid-in capital                         6819 non-null   float64\n",
      " 43   Net profit before tax/Paid-in capital                    6819 non-null   float64\n",
      " 44   Inventory and accounts receivable/Net value              6819 non-null   float64\n",
      " 45   Total Asset Turnover                                     6819 non-null   float64\n",
      " 46   Accounts Receivable Turnover                             6819 non-null   float64\n",
      " 47   Average Collection Days                                  6819 non-null   float64\n",
      " 48   Inventory Turnover Rate (times)                          6819 non-null   float64\n",
      " 49   Fixed Assets Turnover Frequency                          6819 non-null   float64\n",
      " 50   Net Worth Turnover Rate (times)                          6819 non-null   float64\n",
      " 51   Revenue per person                                       6819 non-null   float64\n",
      " 52   Operating profit per person                              6819 non-null   float64\n",
      " 53   Allocation rate per person                               6819 non-null   float64\n",
      " 54   Working Capital to Total Assets                          6819 non-null   float64\n",
      " 55   Quick Assets/Total Assets                                6819 non-null   float64\n",
      " 56   Current Assets/Total Assets                              6819 non-null   float64\n",
      " 57   Cash/Total Assets                                        6819 non-null   float64\n",
      " 58   Quick Assets/Current Liability                           6819 non-null   float64\n",
      " 59   Cash/Current Liability                                   6819 non-null   float64\n",
      " 60   Current Liability to Assets                              6819 non-null   float64\n",
      " 61   Operating Funds to Liability                             6819 non-null   float64\n",
      " 62   Inventory/Working Capital                                6819 non-null   float64\n",
      " 63   Inventory/Current Liability                              6819 non-null   float64\n",
      " 64   Current Liabilities/Liability                            6819 non-null   float64\n",
      " 65   Working Capital/Equity                                   6819 non-null   float64\n",
      " 66   Current Liabilities/Equity                               6819 non-null   float64\n",
      " 67   Long-term Liability to Current Assets                    6819 non-null   float64\n",
      " 68   Retained Earnings to Total Assets                        6819 non-null   float64\n",
      " 69   Total income/Total expense                               6819 non-null   float64\n",
      " 70   Total expense/Assets                                     6819 non-null   float64\n",
      " 71   Current Asset Turnover Rate                              6819 non-null   float64\n",
      " 72   Quick Asset Turnover Rate                                6819 non-null   float64\n",
      " 73   Working capitcal Turnover Rate                           6819 non-null   float64\n",
      " 74   Cash Turnover Rate                                       6819 non-null   float64\n",
      " 75   Cash Flow to Sales                                       6819 non-null   float64\n",
      " 76   Fixed Assets to Assets                                   6819 non-null   float64\n",
      " 77   Current Liability to Liability                           6819 non-null   float64\n",
      " 78   Current Liability to Equity                              6819 non-null   float64\n",
      " 79   Equity to Long-term Liability                            6819 non-null   float64\n",
      " 80   Cash Flow to Total Assets                                6819 non-null   float64\n",
      " 81   Cash Flow to Liability                                   6819 non-null   float64\n",
      " 82   CFO to Assets                                            6819 non-null   float64\n",
      " 83   Cash Flow to Equity                                      6819 non-null   float64\n",
      " 84   Current Liability to Current Assets                      6819 non-null   float64\n",
      " 85   Liability-Assets Flag                                    6819 non-null   int64  \n",
      " 86   Net Income to Total Assets                               6819 non-null   float64\n",
      " 87   Total assets to GNP price                                6819 non-null   float64\n",
      " 88   No-credit Interval                                       6819 non-null   float64\n",
      " 89   Gross Profit to Sales                                    6819 non-null   float64\n",
      " 90   Net Income to Stockholder's Equity                       6819 non-null   float64\n",
      " 91   Liability to Equity                                      6819 non-null   float64\n",
      " 92   Degree of Financial Leverage (DFL)                       6819 non-null   float64\n",
      " 93   Interest Coverage Ratio (Interest expense to EBIT)       6819 non-null   float64\n",
      " 94   Net Income Flag                                          6819 non-null   int64  \n",
      " 95   Equity to Liability                                      6819 non-null   float64\n",
      "dtypes: float64(93), int64(3)\n",
      "memory usage: 5.0 MB\n"
     ]
    }
   ],
   "source": [
    "df.info()"
   ]
  },
  {
   "cell_type": "markdown",
   "metadata": {
    "papermill": {
     "duration": 0.021768,
     "end_time": "2021-06-25T05:12:45.756432",
     "exception": false,
     "start_time": "2021-06-25T05:12:45.734664",
     "status": "completed"
    },
    "tags": []
   },
   "source": [
    "all 96 columns are either int or float value. "
   ]
  },
  {
   "cell_type": "markdown",
   "metadata": {
    "papermill": {
     "duration": 0.021899,
     "end_time": "2021-06-25T05:12:45.800535",
     "exception": false,
     "start_time": "2021-06-25T05:12:45.778636",
     "status": "completed"
    },
    "tags": []
   },
   "source": [
    "# Exploratory Data Analysis\n",
    "Univariated data analysis"
   ]
  },
  {
   "cell_type": "code",
   "execution_count": 8,
   "metadata": {
    "execution": {
     "iopub.execute_input": "2021-06-25T05:12:45.849993Z",
     "iopub.status.busy": "2021-06-25T05:12:45.849224Z",
     "iopub.status.idle": "2021-06-25T05:12:46.558392Z",
     "shell.execute_reply": "2021-06-25T05:12:46.557846Z"
    },
    "papermill": {
     "duration": 0.735981,
     "end_time": "2021-06-25T05:12:46.558533",
     "exception": false,
     "start_time": "2021-06-25T05:12:45.822552",
     "status": "completed"
    },
    "tags": []
   },
   "outputs": [],
   "source": [
    "#import required ploting libraries\n",
    "import matplotlib.pyplot as plt\n",
    "import seaborn as sns\n",
    "%matplotlib inline"
   ]
  },
  {
   "cell_type": "code",
   "execution_count": 9,
   "metadata": {
    "execution": {
     "iopub.execute_input": "2021-06-25T05:12:46.611762Z",
     "iopub.status.busy": "2021-06-25T05:12:46.610863Z",
     "iopub.status.idle": "2021-06-25T05:12:46.614533Z",
     "shell.execute_reply": "2021-06-25T05:12:46.614940Z"
    },
    "papermill": {
     "duration": 0.032606,
     "end_time": "2021-06-25T05:12:46.615106",
     "exception": false,
     "start_time": "2021-06-25T05:12:46.582500",
     "status": "completed"
    },
    "tags": []
   },
   "outputs": [
    {
     "data": {
      "text/plain": [
       "0    6599\n",
       "1     220\n",
       "Name: Bankrupt?, dtype: int64"
      ]
     },
     "execution_count": 9,
     "metadata": {},
     "output_type": "execute_result"
    }
   ],
   "source": [
    "#let us check the Target variable\n",
    "df['Bankrupt?'].value_counts()"
   ]
  },
  {
   "cell_type": "code",
   "execution_count": 10,
   "metadata": {
    "execution": {
     "iopub.execute_input": "2021-06-25T05:12:46.665131Z",
     "iopub.status.busy": "2021-06-25T05:12:46.664528Z",
     "iopub.status.idle": "2021-06-25T05:12:46.803860Z",
     "shell.execute_reply": "2021-06-25T05:12:46.803352Z"
    },
    "papermill": {
     "duration": 0.16638,
     "end_time": "2021-06-25T05:12:46.804005",
     "exception": false,
     "start_time": "2021-06-25T05:12:46.637625",
     "status": "completed"
    },
    "tags": []
   },
   "outputs": [
    {
     "data": {
      "text/plain": [
       "Text(0.5, 1.0, 'Target feature - Bankrupt?')"
      ]
     },
     "execution_count": 10,
     "metadata": {},
     "output_type": "execute_result"
    },
    {
     "data": {
      "image/png": "[encoded data removed]",
      "text/plain": [
       "<Figure size 432x288 with 1 Axes>"
      ]
     },
     "metadata": {
      "needs_background": "light"
     },
     "output_type": "display_data"
    }
   ],
   "source": [
    "sns.countplot(x=df['Bankrupt?'])\n",
    "plt.title('Target feature - Bankrupt?')"
   ]
  },
  {
   "cell_type": "markdown",
   "metadata": {
    "papermill": {
     "duration": 0.023099,
     "end_time": "2021-06-25T05:12:46.850509",
     "exception": false,
     "start_time": "2021-06-25T05:12:46.827410",
     "status": "completed"
    },
    "tags": []
   },
   "source": [
    "There is imbalance in the Target value, we need to oversample it based"
   ]
  },
  {
   "cell_type": "markdown",
   "metadata": {
    "papermill": {
     "duration": 0.022955,
     "end_time": "2021-06-25T05:12:46.897003",
     "exception": false,
     "start_time": "2021-06-25T05:12:46.874048",
     "status": "completed"
    },
    "tags": []
   },
   "source": [
    "# Oversampling the Target value"
   ]
  },
  {
   "cell_type": "code",
   "execution_count": 11,
   "metadata": {
    "execution": {
     "iopub.execute_input": "2021-06-25T05:12:46.948753Z",
     "iopub.status.busy": "2021-06-25T05:12:46.948064Z",
     "iopub.status.idle": "2021-06-25T05:12:47.482317Z",
     "shell.execute_reply": "2021-06-25T05:12:47.481704Z"
    },
    "papermill": {
     "duration": 0.561991,
     "end_time": "2021-06-25T05:12:47.482490",
     "exception": false,
     "start_time": "2021-06-25T05:12:46.920499",
     "status": "completed"
    },
    "tags": []
   },
   "outputs": [],
   "source": [
    "from imblearn.over_sampling import SMOTE"
   ]
  },
  {
   "cell_type": "code",
   "execution_count": 12,
   "metadata": {
    "execution": {
     "iopub.execute_input": "2021-06-25T05:12:47.538618Z",
     "iopub.status.busy": "2021-06-25T05:12:47.538010Z",
     "iopub.status.idle": "2021-06-25T05:12:47.540939Z",
     "shell.execute_reply": "2021-06-25T05:12:47.540355Z"
    },
    "papermill": {
     "duration": 0.034888,
     "end_time": "2021-06-25T05:12:47.541072",
     "exception": false,
     "start_time": "2021-06-25T05:12:47.506184",
     "status": "completed"
    },
    "tags": []
   },
   "outputs": [],
   "source": [
    "X=df.drop(labels=['Bankrupt?'], axis=1)\n",
    "y=df['Bankrupt?']"
   ]
  },
  {
   "cell_type": "markdown",
   "metadata": {
    "papermill": {
     "duration": 0.023103,
     "end_time": "2021-06-25T05:12:47.587746",
     "exception": false,
     "start_time": "2021-06-25T05:12:47.564643",
     "status": "completed"
    },
    "tags": []
   },
   "source": [
    "Oversampling the Target vaiable using SMOTE"
   ]
  },
  {
   "cell_type": "code",
   "execution_count": 13,
   "metadata": {
    "execution": {
     "iopub.execute_input": "2021-06-25T05:12:47.638069Z",
     "iopub.status.busy": "2021-06-25T05:12:47.637520Z",
     "iopub.status.idle": "2021-06-25T05:12:47.698721Z",
     "shell.execute_reply": "2021-06-25T05:12:47.699133Z"
    },
    "papermill": {
     "duration": 0.087884,
     "end_time": "2021-06-25T05:12:47.699305",
     "exception": false,
     "start_time": "2021-06-25T05:12:47.611421",
     "status": "completed"
    },
    "tags": []
   },
   "outputs": [],
   "source": [
    "oversample = SMOTE()\n",
    "X,y=oversample.fit_resample(X,y)"
   ]
  },
  {
   "cell_type": "code",
   "execution_count": 14,
   "metadata": {
    "execution": {
     "iopub.execute_input": "2021-06-25T05:12:47.752795Z",
     "iopub.status.busy": "2021-06-25T05:12:47.751885Z",
     "iopub.status.idle": "2021-06-25T05:12:47.854449Z",
     "shell.execute_reply": "2021-06-25T05:12:47.854876Z"
    },
    "papermill": {
     "duration": 0.132153,
     "end_time": "2021-06-25T05:12:47.855050",
     "exception": false,
     "start_time": "2021-06-25T05:12:47.722897",
     "status": "completed"
    },
    "tags": []
   },
   "outputs": [
    {
     "data": {
      "text/plain": [
       "<AxesSubplot:xlabel='Bankrupt?', ylabel='count'>"
      ]
     },
     "execution_count": 14,
     "metadata": {},
     "output_type": "execute_result"
    },
    {
     "data": {
      "image/png": "[encoded data removed]",
      "text/plain": [
       "<Figure size 432x288 with 1 Axes>"
      ]
     },
     "metadata": {
      "needs_background": "light"
     },
     "output_type": "display_data"
    }
   ],
   "source": [
    "sns.countplot(x=y)"
   ]
  },
  {
   "cell_type": "markdown",
   "metadata": {
    "papermill": {
     "duration": 0.024138,
     "end_time": "2021-06-25T05:12:47.904175",
     "exception": false,
     "start_time": "2021-06-25T05:12:47.880037",
     "status": "completed"
    },
    "tags": []
   },
   "source": [
    "# Feature Selection"
   ]
  },
  {
   "cell_type": "code",
   "execution_count": 15,
   "metadata": {
    "execution": {
     "iopub.execute_input": "2021-06-25T05:12:47.957074Z",
     "iopub.status.busy": "2021-06-25T05:12:47.956508Z",
     "iopub.status.idle": "2021-06-25T05:12:47.958461Z",
     "shell.execute_reply": "2021-06-25T05:12:47.958875Z"
    },
    "papermill": {
     "duration": 0.030402,
     "end_time": "2021-06-25T05:12:47.959026",
     "exception": false,
     "start_time": "2021-06-25T05:12:47.928624",
     "status": "completed"
    },
    "tags": []
   },
   "outputs": [],
   "source": [
    "from sklearn.preprocessing import StandardScaler"
   ]
  },
  {
   "cell_type": "markdown",
   "metadata": {
    "papermill": {
     "duration": 0.024743,
     "end_time": "2021-06-25T05:12:48.008415",
     "exception": false,
     "start_time": "2021-06-25T05:12:47.983672",
     "status": "completed"
    },
    "tags": []
   },
   "source": [
    "Select 30 independent variables out of 96 variables."
   ]
  },
  {
   "cell_type": "code",
   "execution_count": 16,
   "metadata": {
    "execution": {
     "iopub.execute_input": "2021-06-25T05:12:48.061346Z",
     "iopub.status.busy": "2021-06-25T05:12:48.060680Z",
     "iopub.status.idle": "2021-06-25T05:12:48.109270Z",
     "shell.execute_reply": "2021-06-25T05:12:48.110019Z"
    },
    "papermill": {
     "duration": 0.076995,
     "end_time": "2021-06-25T05:12:48.110249",
     "exception": false,
     "start_time": "2021-06-25T05:12:48.033254",
     "status": "completed"
    },
    "tags": []
   },
   "outputs": [
    {
     "name": "stderr",
     "output_type": "stream",
     "text": [
      "/opt/conda/lib/python3.7/site-packages/sklearn/feature_selection/_univariate_selection.py:115: UserWarning: Features [93] are constant.\n",
      "  UserWarning)\n",
      "/opt/conda/lib/python3.7/site-packages/sklearn/feature_selection/_univariate_selection.py:116: RuntimeWarning: invalid value encountered in true_divide\n",
      "  f = msb / msw\n"
     ]
    }
   ],
   "source": [
    "from sklearn.feature_selection import SelectFromModel, mutual_info_classif, f_classif, SelectKBest\n",
    "\n",
    "feature_selection=SelectKBest(f_classif,k=30).fit(X,y)\n",
    "#feat=feature_selection.fit(X_scale,y)"
   ]
  },
  {
   "cell_type": "code",
   "execution_count": 17,
   "metadata": {
    "execution": {
     "iopub.execute_input": "2021-06-25T05:12:48.175482Z",
     "iopub.status.busy": "2021-06-25T05:12:48.174788Z",
     "iopub.status.idle": "2021-06-25T05:12:48.177105Z",
     "shell.execute_reply": "2021-06-25T05:12:48.177551Z"
    },
    "papermill": {
     "duration": 0.034869,
     "end_time": "2021-06-25T05:12:48.177720",
     "exception": false,
     "start_time": "2021-06-25T05:12:48.142851",
     "status": "completed"
    },
    "tags": []
   },
   "outputs": [],
   "source": [
    "selected_features=X.columns[feature_selection.get_support()]"
   ]
  },
  {
   "cell_type": "markdown",
   "metadata": {
    "papermill": {
     "duration": 0.024515,
     "end_time": "2021-06-25T05:12:48.227111",
     "exception": false,
     "start_time": "2021-06-25T05:12:48.202596",
     "status": "completed"
    },
    "tags": []
   },
   "source": [
    "# Standardize the Independent Variable"
   ]
  },
  {
   "cell_type": "code",
   "execution_count": 18,
   "metadata": {
    "execution": {
     "iopub.execute_input": "2021-06-25T05:12:48.283249Z",
     "iopub.status.busy": "2021-06-25T05:12:48.282670Z",
     "iopub.status.idle": "2021-06-25T05:12:48.319398Z",
     "shell.execute_reply": "2021-06-25T05:12:48.318887Z"
    },
    "papermill": {
     "duration": 0.06773,
     "end_time": "2021-06-25T05:12:48.319532",
     "exception": false,
     "start_time": "2021-06-25T05:12:48.251802",
     "status": "completed"
    },
    "tags": []
   },
   "outputs": [],
   "source": [
    "scaler=StandardScaler()\n",
    "X_scale=scaler.fit_transform(X)"
   ]
  },
  {
   "cell_type": "code",
   "execution_count": 19,
   "metadata": {
    "execution": {
     "iopub.execute_input": "2021-06-25T05:12:48.392274Z",
     "iopub.status.busy": "2021-06-25T05:12:48.391334Z",
     "iopub.status.idle": "2021-06-25T05:12:48.402171Z",
     "shell.execute_reply": "2021-06-25T05:12:48.402897Z"
    },
    "papermill": {
     "duration": 0.050491,
     "end_time": "2021-06-25T05:12:48.403145",
     "exception": false,
     "start_time": "2021-06-25T05:12:48.352654",
     "status": "completed"
    },
    "tags": []
   },
   "outputs": [],
   "source": [
    "from sklearn.model_selection import train_test_split\n",
    "X_train, X_test, y_train, y_test = train_test_split(X_scale, y,test_size=0.3)"
   ]
  },
  {
   "cell_type": "markdown",
   "metadata": {
    "papermill": {
     "duration": 0.026163,
     "end_time": "2021-06-25T05:12:48.466985",
     "exception": false,
     "start_time": "2021-06-25T05:12:48.440822",
     "status": "completed"
    },
    "tags": []
   },
   "source": [
    "# Logistic Regression"
   ]
  },
  {
   "cell_type": "code",
   "execution_count": 20,
   "metadata": {
    "execution": {
     "iopub.execute_input": "2021-06-25T05:12:48.520739Z",
     "iopub.status.busy": "2021-06-25T05:12:48.519835Z",
     "iopub.status.idle": "2021-06-25T05:12:48.824774Z",
     "shell.execute_reply": "2021-06-25T05:12:48.823912Z"
    },
    "papermill": {
     "duration": 0.332878,
     "end_time": "2021-06-25T05:12:48.825006",
     "exception": false,
     "start_time": "2021-06-25T05:12:48.492128",
     "status": "completed"
    },
    "tags": []
   },
   "outputs": [
    {
     "name": "stderr",
     "output_type": "stream",
     "text": [
      "/opt/conda/lib/python3.7/site-packages/sklearn/linear_model/_logistic.py:764: ConvergenceWarning: lbfgs failed to converge (status=1):\n",
      "STOP: TOTAL NO. of ITERATIONS REACHED LIMIT.\n",
      "\n",
      "Increase the number of iterations (max_iter) or scale the data as shown in:\n",
      "    https://scikit-learn.org/stable/modules/preprocessing.html\n",
      "Please also refer to the documentation for alternative solver options:\n",
      "    https://scikit-learn.org/stable/modules/linear_model.html#logistic-regression\n",
      "  extra_warning_msg=_LOGISTIC_SOLVER_CONVERGENCE_MSG)\n"
     ]
    },
    {
     "data": {
      "text/plain": [
       "LogisticRegression()"
      ]
     },
     "execution_count": 20,
     "metadata": {},
     "output_type": "execute_result"
    }
   ],
   "source": [
    "from sklearn.linear_model import LogisticRegression\n",
    "log_reg=LogisticRegression()\n",
    "log_reg.fit(X_train,y_train)"
   ]
  },
  {
   "cell_type": "code",
   "execution_count": 21,
   "metadata": {
    "execution": {
     "iopub.execute_input": "2021-06-25T05:12:48.934823Z",
     "iopub.status.busy": "2021-06-25T05:12:48.934017Z",
     "iopub.status.idle": "2021-06-25T05:12:48.942945Z",
     "shell.execute_reply": "2021-06-25T05:12:48.944196Z"
    },
    "papermill": {
     "duration": 0.063738,
     "end_time": "2021-06-25T05:12:48.944509",
     "exception": false,
     "start_time": "2021-06-25T05:12:48.880771",
     "status": "completed"
    },
    "tags": []
   },
   "outputs": [
    {
     "data": {
      "text/plain": [
       "0.8994949494949495"
      ]
     },
     "execution_count": 21,
     "metadata": {},
     "output_type": "execute_result"
    }
   ],
   "source": [
    "log_reg.score(X_test,y_test)"
   ]
  },
  {
   "cell_type": "code",
   "execution_count": 22,
   "metadata": {
    "execution": {
     "iopub.execute_input": "2021-06-25T05:12:49.058196Z",
     "iopub.status.busy": "2021-06-25T05:12:49.057140Z",
     "iopub.status.idle": "2021-06-25T05:12:49.063158Z",
     "shell.execute_reply": "2021-06-25T05:12:49.063873Z"
    },
    "papermill": {
     "duration": 0.064386,
     "end_time": "2021-06-25T05:12:49.064146",
     "exception": false,
     "start_time": "2021-06-25T05:12:48.999760",
     "status": "completed"
    },
    "tags": []
   },
   "outputs": [],
   "source": [
    "y_pred=log_reg.predict(X_test)"
   ]
  },
  {
   "cell_type": "code",
   "execution_count": 23,
   "metadata": {
    "execution": {
     "iopub.execute_input": "2021-06-25T05:12:49.180083Z",
     "iopub.status.busy": "2021-06-25T05:12:49.178973Z",
     "iopub.status.idle": "2021-06-25T05:12:49.180614Z",
     "shell.execute_reply": "2021-06-25T05:12:49.179578Z"
    },
    "papermill": {
     "duration": 0.065486,
     "end_time": "2021-06-25T05:12:49.180752",
     "exception": false,
     "start_time": "2021-06-25T05:12:49.115266",
     "status": "completed"
    },
    "tags": []
   },
   "outputs": [],
   "source": [
    "from sklearn.metrics import classification_report, confusion_matrix, accuracy_score"
   ]
  },
  {
   "cell_type": "markdown",
   "metadata": {
    "papermill": {
     "duration": 0.026368,
     "end_time": "2021-06-25T05:12:49.233790",
     "exception": false,
     "start_time": "2021-06-25T05:12:49.207422",
     "status": "completed"
    },
    "tags": []
   },
   "source": [
    "# Metrics"
   ]
  },
  {
   "cell_type": "code",
   "execution_count": 24,
   "metadata": {
    "execution": {
     "iopub.execute_input": "2021-06-25T05:12:49.293357Z",
     "iopub.status.busy": "2021-06-25T05:12:49.292773Z",
     "iopub.status.idle": "2021-06-25T05:12:49.295088Z",
     "shell.execute_reply": "2021-06-25T05:12:49.295579Z"
    },
    "papermill": {
     "duration": 0.035293,
     "end_time": "2021-06-25T05:12:49.295751",
     "exception": false,
     "start_time": "2021-06-25T05:12:49.260458",
     "status": "completed"
    },
    "tags": []
   },
   "outputs": [
    {
     "data": {
      "text/plain": [
       "0.8994949494949495"
      ]
     },
     "execution_count": 24,
     "metadata": {},
     "output_type": "execute_result"
    }
   ],
   "source": [
    "accuracy_score(y_test,y_pred)"
   ]
  },
  {
   "cell_type": "code",
   "execution_count": 25,
   "metadata": {
    "execution": {
     "iopub.execute_input": "2021-06-25T05:12:49.352623Z",
     "iopub.status.busy": "2021-06-25T05:12:49.352008Z",
     "iopub.status.idle": "2021-06-25T05:12:49.367057Z",
     "shell.execute_reply": "2021-06-25T05:12:49.366590Z"
    },
    "papermill": {
     "duration": 0.044487,
     "end_time": "2021-06-25T05:12:49.367194",
     "exception": false,
     "start_time": "2021-06-25T05:12:49.322707",
     "status": "completed"
    },
    "tags": []
   },
   "outputs": [
    {
     "name": "stdout",
     "output_type": "stream",
     "text": [
      "              precision    recall  f1-score   support\n",
      "\n",
      "           0       0.91      0.89      0.90      1983\n",
      "           1       0.89      0.91      0.90      1977\n",
      "\n",
      "    accuracy                           0.90      3960\n",
      "   macro avg       0.90      0.90      0.90      3960\n",
      "weighted avg       0.90      0.90      0.90      3960\n",
      "\n"
     ]
    }
   ],
   "source": [
    "print(classification_report(y_test,y_pred))"
   ]
  },
  {
   "cell_type": "code",
   "execution_count": 26,
   "metadata": {
    "execution": {
     "iopub.execute_input": "2021-06-25T05:12:49.425755Z",
     "iopub.status.busy": "2021-06-25T05:12:49.425187Z",
     "iopub.status.idle": "2021-06-25T05:12:49.637881Z",
     "shell.execute_reply": "2021-06-25T05:12:49.636503Z"
    },
    "papermill": {
     "duration": 0.24391,
     "end_time": "2021-06-25T05:12:49.638034",
     "exception": false,
     "start_time": "2021-06-25T05:12:49.394124",
     "status": "completed"
    },
    "tags": []
   },
   "outputs": [
    {
     "data": {
      "text/plain": [
       "<AxesSubplot:>"
      ]
     },
     "execution_count": 26,
     "metadata": {},
     "output_type": "execute_result"
    },
    {
     "data": {
      "image/png": "[encoded data removed]",
      "text/plain": [
       "<Figure size 432x288 with 2 Axes>"
      ]
     },
     "metadata": {
      "needs_background": "light"
     },
     "output_type": "display_data"
    }
   ],
   "source": [
    "sns.heatmap(confusion_matrix(y_test,y_pred), annot=True)"
   ]
  },
  {
   "cell_type": "markdown",
   "metadata": {
    "papermill": {
     "duration": 0.028963,
     "end_time": "2021-06-25T05:12:49.695062",
     "exception": false,
     "start_time": "2021-06-25T05:12:49.666099",
     "status": "completed"
    },
    "tags": []
   },
   "source": [
    "# Support Vector Machine - Classification"
   ]
  },
  {
   "cell_type": "code",
   "execution_count": 27,
   "metadata": {
    "execution": {
     "iopub.execute_input": "2021-06-25T05:12:49.755009Z",
     "iopub.status.busy": "2021-06-25T05:12:49.754438Z",
     "iopub.status.idle": "2021-06-25T05:12:49.756895Z",
     "shell.execute_reply": "2021-06-25T05:12:49.756339Z"
    },
    "papermill": {
     "duration": 0.034094,
     "end_time": "2021-06-25T05:12:49.757020",
     "exception": false,
     "start_time": "2021-06-25T05:12:49.722926",
     "status": "completed"
    },
    "tags": []
   },
   "outputs": [],
   "source": [
    "from sklearn.svm import SVC"
   ]
  },
  {
   "cell_type": "code",
   "execution_count": 28,
   "metadata": {
    "execution": {
     "iopub.execute_input": "2021-06-25T05:12:49.817510Z",
     "iopub.status.busy": "2021-06-25T05:12:49.816906Z",
     "iopub.status.idle": "2021-06-25T05:12:54.310846Z",
     "shell.execute_reply": "2021-06-25T05:12:54.311248Z"
    },
    "papermill": {
     "duration": 4.526447,
     "end_time": "2021-06-25T05:12:54.311461",
     "exception": false,
     "start_time": "2021-06-25T05:12:49.785014",
     "status": "completed"
    },
    "tags": []
   },
   "outputs": [
    {
     "data": {
      "text/plain": [
       "SVC()"
      ]
     },
     "execution_count": 28,
     "metadata": {},
     "output_type": "execute_result"
    }
   ],
   "source": [
    "model = SVC()\n",
    "model.fit(X_train, y_train)"
   ]
  },
  {
   "cell_type": "code",
   "execution_count": 29,
   "metadata": {
    "execution": {
     "iopub.execute_input": "2021-06-25T05:12:54.373227Z",
     "iopub.status.busy": "2021-06-25T05:12:54.372378Z",
     "iopub.status.idle": "2021-06-25T05:12:55.815543Z",
     "shell.execute_reply": "2021-06-25T05:12:55.815988Z"
    },
    "papermill": {
     "duration": 1.47617,
     "end_time": "2021-06-25T05:12:55.816152",
     "exception": false,
     "start_time": "2021-06-25T05:12:54.339982",
     "status": "completed"
    },
    "tags": []
   },
   "outputs": [
    {
     "data": {
      "text/plain": [
       "0.9502525252525252"
      ]
     },
     "execution_count": 29,
     "metadata": {},
     "output_type": "execute_result"
    }
   ],
   "source": [
    "model.score(X_test,y_test)"
   ]
  },
  {
   "cell_type": "code",
   "execution_count": 30,
   "metadata": {
    "execution": {
     "iopub.execute_input": "2021-06-25T05:12:55.877143Z",
     "iopub.status.busy": "2021-06-25T05:12:55.876220Z",
     "iopub.status.idle": "2021-06-25T05:12:57.319753Z",
     "shell.execute_reply": "2021-06-25T05:12:57.318677Z"
    },
    "papermill": {
     "duration": 1.475125,
     "end_time": "2021-06-25T05:12:57.319905",
     "exception": false,
     "start_time": "2021-06-25T05:12:55.844780",
     "status": "completed"
    },
    "tags": []
   },
   "outputs": [],
   "source": [
    "svc_predict=model.predict(X_test)"
   ]
  },
  {
   "cell_type": "markdown",
   "metadata": {
    "papermill": {
     "duration": 0.029942,
     "end_time": "2021-06-25T05:12:57.378736",
     "exception": false,
     "start_time": "2021-06-25T05:12:57.348794",
     "status": "completed"
    },
    "tags": []
   },
   "source": [
    "# Metrics"
   ]
  },
  {
   "cell_type": "code",
   "execution_count": 31,
   "metadata": {
    "execution": {
     "iopub.execute_input": "2021-06-25T05:12:57.441341Z",
     "iopub.status.busy": "2021-06-25T05:12:57.440600Z",
     "iopub.status.idle": "2021-06-25T05:12:57.445313Z",
     "shell.execute_reply": "2021-06-25T05:12:57.445824Z"
    },
    "papermill": {
     "duration": 0.038297,
     "end_time": "2021-06-25T05:12:57.445987",
     "exception": false,
     "start_time": "2021-06-25T05:12:57.407690",
     "status": "completed"
    },
    "tags": []
   },
   "outputs": [
    {
     "data": {
      "text/plain": [
       "0.9502525252525252"
      ]
     },
     "execution_count": 31,
     "metadata": {},
     "output_type": "execute_result"
    }
   ],
   "source": [
    "accuracy_score(y_test,svc_predict)"
   ]
  },
  {
   "cell_type": "code",
   "execution_count": 32,
   "metadata": {
    "execution": {
     "iopub.execute_input": "2021-06-25T05:12:57.507447Z",
     "iopub.status.busy": "2021-06-25T05:12:57.506587Z",
     "iopub.status.idle": "2021-06-25T05:12:57.522249Z",
     "shell.execute_reply": "2021-06-25T05:12:57.521759Z"
    },
    "papermill": {
     "duration": 0.047399,
     "end_time": "2021-06-25T05:12:57.522396",
     "exception": false,
     "start_time": "2021-06-25T05:12:57.474997",
     "status": "completed"
    },
    "tags": []
   },
   "outputs": [
    {
     "name": "stdout",
     "output_type": "stream",
     "text": [
      "              precision    recall  f1-score   support\n",
      "\n",
      "           0       0.98      0.92      0.95      1983\n",
      "           1       0.92      0.98      0.95      1977\n",
      "\n",
      "    accuracy                           0.95      3960\n",
      "   macro avg       0.95      0.95      0.95      3960\n",
      "weighted avg       0.95      0.95      0.95      3960\n",
      "\n"
     ]
    }
   ],
   "source": [
    "print(classification_report(y_test, svc_predict))"
   ]
  },
  {
   "cell_type": "code",
   "execution_count": 33,
   "metadata": {
    "execution": {
     "iopub.execute_input": "2021-06-25T05:12:57.586602Z",
     "iopub.status.busy": "2021-06-25T05:12:57.586008Z",
     "iopub.status.idle": "2021-06-25T05:12:57.804789Z",
     "shell.execute_reply": "2021-06-25T05:12:57.804165Z"
    },
    "papermill": {
     "duration": 0.252408,
     "end_time": "2021-06-25T05:12:57.804932",
     "exception": false,
     "start_time": "2021-06-25T05:12:57.552524",
     "status": "completed"
    },
    "tags": []
   },
   "outputs": [
    {
     "data": {
      "text/plain": [
       "<AxesSubplot:>"
      ]
     },
     "execution_count": 33,
     "metadata": {},
     "output_type": "execute_result"
    },
    {
     "data": {
      "image/png": "[encoded data removed]",
      "text/plain": [
       "<Figure size 432x288 with 2 Axes>"
      ]
     },
     "metadata": {
      "needs_background": "light"
     },
     "output_type": "display_data"
    }
   ],
   "source": [
    "sns.heatmap(confusion_matrix(y_test,svc_predict,), annot=True)"
   ]
  },
  {
   "cell_type": "markdown",
   "metadata": {
    "papermill": {
     "duration": 0.03081,
     "end_time": "2021-06-25T05:12:57.866466",
     "exception": false,
     "start_time": "2021-06-25T05:12:57.835656",
     "status": "completed"
    },
    "tags": []
   },
   "source": [
    "SVC model predicts the output with 96% accuracy where as Logit Regression predicts the output with 91% accuracy"
   ]
  }
 ],
 "metadata": {
  "kernelspec": {
   "display_name": "Python 3",
   "language": "python",
   "name": "python3"
  },
  "language_info": {
   "codemirror_mode": {
    "name": "ipython",
    "version": 3
   },
   "file_extension": ".py",
   "mimetype": "text/x-python",
   "name": "python",
   "nbconvert_exporter": "python",
   "pygments_lexer": "ipython3",
   "version": "3.7.9"
  },
  "papermill": {
   "default_parameters": {},
   "duration": 18.877428,
   "end_time": "2021-06-25T05:12:58.504768",
   "environment_variables": {},
   "exception": null,
   "input_path": "__notebook__.ipynb",
   "output_path": "__notebook__.ipynb",
   "parameters": {},
   "start_time": "2021-06-25T05:12:39.627340",
   "version": "2.2.2"
  }
 },
 "nbformat": 4,
 "nbformat_minor": 4
}
